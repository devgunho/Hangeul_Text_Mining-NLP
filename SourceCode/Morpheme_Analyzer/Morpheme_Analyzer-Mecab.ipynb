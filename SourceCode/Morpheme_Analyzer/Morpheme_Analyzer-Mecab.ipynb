{
 "cells": [
  {
   "cell_type": "markdown",
   "metadata": {},
   "source": [
    "**MeCab**\n",
    "\n",
    "- NNG: 일반 명사\n",
    "\n",
    "- NNP: 고유 명사\n",
    "\n",
    "- NP: 대명사\n",
    "\n",
    "- SL: 외국어\n",
    "\n",
    "- SH: 한자"
   ]
  },
  {
   "cell_type": "code",
   "execution_count": 1,
   "metadata": {
    "ExecuteTime": {
     "end_time": "2020-11-18T12:19:15.174440Z",
     "start_time": "2020-11-18T12:19:10.143891Z"
    }
   },
   "outputs": [
    {
     "data": {
      "text/html": [
       "<div>\n",
       "<style scoped>\n",
       "    .dataframe tbody tr th:only-of-type {\n",
       "        vertical-align: middle;\n",
       "    }\n",
       "\n",
       "    .dataframe tbody tr th {\n",
       "        vertical-align: top;\n",
       "    }\n",
       "\n",
       "    .dataframe thead th {\n",
       "        text-align: right;\n",
       "    }\n",
       "</style>\n",
       "<table border=\"1\" class=\"dataframe\">\n",
       "  <thead>\n",
       "    <tr style=\"text-align: right;\">\n",
       "      <th></th>\n",
       "      <th>text</th>\n",
       "    </tr>\n",
       "  </thead>\n",
       "  <tbody>\n",
       "    <tr>\n",
       "      <th>0</th>\n",
       "      <td>나이키 배색반집업후리스\\t봉봉빈티지 ♥제품명: 나이키 배색반집업후리스 ​ ♥가격: ...</td>\n",
       "    </tr>\n",
       "    <tr>\n",
       "      <th>1</th>\n",
       "      <td>어커버 하프집업후리스 :: HALF ZIP UP SILKY FLEECE\\tHALF ...</td>\n",
       "    </tr>\n",
       "    <tr>\n",
       "      <th>2</th>\n",
       "      <td>[18DAY] 남미배낭여행 (볼리비아 라파즈 데스로드/킬리킬리 야경/라파즈...\\t...</td>\n",
       "    </tr>\n",
       "    <tr>\n",
       "      <th>3</th>\n",
       "      <td>Made U] 스윗서브 후리스반집업후드-뽀글이 양털 후드티] 털날리는 것...\\t상...</td>\n",
       "    </tr>\n",
       "    <tr>\n",
       "      <th>4</th>\n",
       "      <td>/choiroom/ 터틀 울 골지 원피스 니트 세트\\t뒷면 초이룸의 베스트상품 함께...</td>\n",
       "    </tr>\n",
       "    <tr>\n",
       "      <th>...</th>\n",
       "      <td>...</td>\n",
       "    </tr>\n",
       "    <tr>\n",
       "      <th>95864</th>\n",
       "      <td>[핫딜]블랙야크 여성반집업티셔츠 주황 5,000원\\t주문은 링크타주세요. https...</td>\n",
       "    </tr>\n",
       "    <tr>\n",
       "      <th>95865</th>\n",
       "      <td>[핫딜]제이디엑스 JDX 여성 이중에리반집업티셔츠 네이비 9,000원\\t주문은 링크...</td>\n",
       "    </tr>\n",
       "    <tr>\n",
       "      <th>95866</th>\n",
       "      <td>[핫딜]제이디엑스 JDX 여성 이중에리반집업티셔츠 블랙 할인가 9...\\t주문은 링...</td>\n",
       "    </tr>\n",
       "    <tr>\n",
       "      <th>95867</th>\n",
       "      <td>남성 폴로 면반집업니트 레드 70% 50000\\tl xl 라지 기준 여유 105 5...</td>\n",
       "    </tr>\n",
       "    <tr>\n",
       "      <th>95868</th>\n",
       "      <td>[쇼지첼시핫딜] 디스커버리 여성반집업기모 하이넥 긴팔티 ! 1...\\t17800 5...</td>\n",
       "    </tr>\n",
       "  </tbody>\n",
       "</table>\n",
       "<p>95869 rows × 1 columns</p>\n",
       "</div>"
      ],
      "text/plain": [
       "                                                    text\n",
       "0      나이키 배색반집업후리스\\t봉봉빈티지 ♥제품명: 나이키 배색반집업후리스 ​ ♥가격: ...\n",
       "1      어커버 하프집업후리스 :: HALF ZIP UP SILKY FLEECE\\tHALF ...\n",
       "2      [18DAY] 남미배낭여행 (볼리비아 라파즈 데스로드/킬리킬리 야경/라파즈...\\t...\n",
       "3      Made U] 스윗서브 후리스반집업후드-뽀글이 양털 후드티] 털날리는 것...\\t상...\n",
       "4      /choiroom/ 터틀 울 골지 원피스 니트 세트\\t뒷면 초이룸의 베스트상품 함께...\n",
       "...                                                  ...\n",
       "95864  [핫딜]블랙야크 여성반집업티셔츠 주황 5,000원\\t주문은 링크타주세요. https...\n",
       "95865  [핫딜]제이디엑스 JDX 여성 이중에리반집업티셔츠 네이비 9,000원\\t주문은 링크...\n",
       "95866  [핫딜]제이디엑스 JDX 여성 이중에리반집업티셔츠 블랙 할인가 9...\\t주문은 링...\n",
       "95867  남성 폴로 면반집업니트 레드 70% 50000\\tl xl 라지 기준 여유 105 5...\n",
       "95868  [쇼지첼시핫딜] 디스커버리 여성반집업기모 하이넥 긴팔티 ! 1...\\t17800 5...\n",
       "\n",
       "[95869 rows x 1 columns]"
      ]
     },
     "execution_count": 1,
     "metadata": {},
     "output_type": "execute_result"
    }
   ],
   "source": [
    "import pandas as pd\n",
    "original = pd.read_csv('./dataset/패션아이템/TOP_ZIPUP_2019.txt', sep=\"\\n\",\n",
    "                       engine='python', encoding=\"utf8\")\n",
    "df = original.dropna(axis=0).reset_index()\n",
    "del(df['index'])\n",
    "df.columns = ['text']\n",
    "df"
   ]
  },
  {
   "cell_type": "code",
   "execution_count": 2,
   "metadata": {
    "ExecuteTime": {
     "end_time": "2020-11-18T12:19:15.190398Z",
     "start_time": "2020-11-18T12:19:15.176435Z"
    }
   },
   "outputs": [],
   "source": [
    "import time\n",
    "Morph = []\n",
    "run_time = []"
   ]
  },
  {
   "cell_type": "code",
   "execution_count": 3,
   "metadata": {
    "ExecuteTime": {
     "end_time": "2020-11-18T12:19:16.439244Z",
     "start_time": "2020-11-18T12:19:15.192392Z"
    }
   },
   "outputs": [],
   "source": [
    "from eunjeon import Mecab\n",
    "mecab = Mecab()\n",
    "\n",
    "POS_PASSWORD5 = ['NNG', 'NNP', 'NP', 'SL', 'SH']"
   ]
  },
  {
   "cell_type": "code",
   "execution_count": 4,
   "metadata": {
    "ExecuteTime": {
     "end_time": "2020-11-18T12:19:16.455163Z",
     "start_time": "2020-11-18T12:19:16.441201Z"
    }
   },
   "outputs": [],
   "source": [
    "def preprocess(string):\n",
    "    rst = \"\"\n",
    "    try:\n",
    "        vocab_pos = mecab.pos(string)\n",
    "        for key, tag in vocab_pos:\n",
    "            # if not(tag in POS_STOPWORD):\n",
    "            if tag in POS_PASSWORD5:\n",
    "                rst = rst + key + \" \"\n",
    "        return rst\n",
    "    except:\n",
    "        return None"
   ]
  },
  {
   "cell_type": "code",
   "execution_count": 5,
   "metadata": {
    "ExecuteTime": {
     "end_time": "2020-11-18T12:25:08.407552Z",
     "start_time": "2020-11-18T12:19:16.457158Z"
    }
   },
   "outputs": [
    {
     "data": {
      "text/html": [
       "<div>\n",
       "<style scoped>\n",
       "    .dataframe tbody tr th:only-of-type {\n",
       "        vertical-align: middle;\n",
       "    }\n",
       "\n",
       "    .dataframe tbody tr th {\n",
       "        vertical-align: top;\n",
       "    }\n",
       "\n",
       "    .dataframe thead th {\n",
       "        text-align: right;\n",
       "    }\n",
       "</style>\n",
       "<table border=\"1\" class=\"dataframe\">\n",
       "  <thead>\n",
       "    <tr style=\"text-align: right;\">\n",
       "      <th></th>\n",
       "      <th>text</th>\n",
       "    </tr>\n",
       "  </thead>\n",
       "  <tbody>\n",
       "    <tr>\n",
       "      <th>0</th>\n",
       "      <td>나이키 배색 반집 업 후 리스 봉봉 빈티지 품명 나이키 배색 반집 업 후 리스 가격...</td>\n",
       "    </tr>\n",
       "    <tr>\n",
       "      <th>1</th>\n",
       "      <td>커버 하프 집 업 후 리스 HALF ZIP UP SILKY FLEECE HALF Z...</td>\n",
       "    </tr>\n",
       "    <tr>\n",
       "      <th>2</th>\n",
       "      <td>DAY 남미 배낭 여행 볼리비아 라파 데스 로드 킬리 킬리 야경 라파 시간 반 이동...</td>\n",
       "    </tr>\n",
       "    <tr>\n",
       "      <th>3</th>\n",
       "      <td>Made U 스윗 서브 후 리스 반집 업 후드 글 양털 후드 티 털 상품명 Made...</td>\n",
       "    </tr>\n",
       "    <tr>\n",
       "      <th>4</th>\n",
       "      <td>choiroom 터틀 골지 원피스 니트 세트 뒷면 룸 베스트 상품 무배 반 폴라 기...</td>\n",
       "    </tr>\n",
       "  </tbody>\n",
       "</table>\n",
       "</div>"
      ],
      "text/plain": [
       "                                                text\n",
       "0  나이키 배색 반집 업 후 리스 봉봉 빈티지 품명 나이키 배색 반집 업 후 리스 가격...\n",
       "1  커버 하프 집 업 후 리스 HALF ZIP UP SILKY FLEECE HALF Z...\n",
       "2  DAY 남미 배낭 여행 볼리비아 라파 데스 로드 킬리 킬리 야경 라파 시간 반 이동...\n",
       "3  Made U 스윗 서브 후 리스 반집 업 후드 글 양털 후드 티 털 상품명 Made...\n",
       "4  choiroom 터틀 골지 원피스 니트 세트 뒷면 룸 베스트 상품 무배 반 폴라 기..."
      ]
     },
     "execution_count": 5,
     "metadata": {},
     "output_type": "execute_result"
    }
   ],
   "source": [
    "ma_mecab = pd.DataFrame()\n",
    "start = time.time()\n",
    "for i in range(len(df)):\n",
    "    # get_morphes_by_tags(): 입력 문장에서 주어진 품사들만 추출합니다.\n",
    "    ma_mecab = ma_mecab.append({'text': preprocess(df['text'][i])},\n",
    "                               ignore_index=True)\n",
    "Morph.append('Mecab')\n",
    "run_time.append(time.time()-start)\n",
    "ma_mecab.head()"
   ]
  },
  {
   "cell_type": "code",
   "execution_count": 6,
   "metadata": {
    "ExecuteTime": {
     "end_time": "2020-11-18T12:25:08.422512Z",
     "start_time": "2020-11-18T12:25:08.409547Z"
    }
   },
   "outputs": [
    {
     "data": {
      "text/plain": [
       "[351.9294493198395]"
      ]
     },
     "execution_count": 6,
     "metadata": {},
     "output_type": "execute_result"
    }
   ],
   "source": [
    "run_time"
   ]
  },
  {
   "cell_type": "code",
   "execution_count": 7,
   "metadata": {
    "ExecuteTime": {
     "end_time": "2020-11-18T12:25:08.985044Z",
     "start_time": "2020-11-18T12:25:08.425505Z"
    }
   },
   "outputs": [],
   "source": [
    "ma_mecab.to_csv(\"ma_mecab_result.csv\", header=False, index=False)"
   ]
  },
  {
   "cell_type": "code",
   "execution_count": 8,
   "metadata": {
    "ExecuteTime": {
     "end_time": "2020-11-18T12:25:10.438159Z",
     "start_time": "2020-11-18T12:25:08.987039Z"
    }
   },
   "outputs": [],
   "source": [
    "temp = ma_mecab.values.tolist()\n",
    "mecab_list = []\n",
    "for sentence in temp:\n",
    "    temp2 = sentence[0].split()\n",
    "    for vocab in temp2:\n",
    "        mecab_list.append(vocab)\n",
    "series_mecab = pd.Series(mecab_list)\n",
    "mecab_counts = series_mecab.value_counts()"
   ]
  },
  {
   "cell_type": "code",
   "execution_count": 9,
   "metadata": {
    "ExecuteTime": {
     "end_time": "2020-11-18T12:25:12.955401Z",
     "start_time": "2020-11-18T12:25:10.440120Z"
    }
   },
   "outputs": [
    {
     "data": {
      "text/plain": [
       "<matplotlib.axes._subplots.AxesSubplot at 0x1c96e3a2a88>"
      ]
     },
     "execution_count": 9,
     "metadata": {},
     "output_type": "execute_result"
    },
    {
     "data": {
      "image/png": "[encoded data removed]",
      "text/plain": [
       "<Figure size 720x1080 with 1 Axes>"
      ]
     },
     "metadata": {
      "image/png": {
       "height": 862,
       "width": 619
      },
      "needs_background": "light"
     },
     "output_type": "display_data"
    }
   ],
   "source": [
    "from IPython.display import set_matplotlib_formats\n",
    "from matplotlib import pyplot as plt\n",
    "import matplotlib as mpl\n",
    "%matplotlib inline\n",
    "mpl.rc('font', family=\"Malgun Gothic\")\n",
    "set_matplotlib_formats('retina')\n",
    "mecab_counts.head(50).plot(figsize=(10, 15),\n",
    "                           kind='barh', grid=True, title='Mecab')"
   ]
  }
 ],
 "metadata": {
  "kernelspec": {
   "display_name": "Python 3",
   "language": "python",
   "name": "python3"
  },
  "language_info": {
   "codemirror_mode": {
    "name": "ipython",
    "version": 3
   },
   "file_extension": ".py",
   "mimetype": "text/x-python",
   "name": "python",
   "nbconvert_exporter": "python",
   "pygments_lexer": "ipython3",
   "version": "3.7.4"
  },
  "toc": {
   "base_numbering": 1,
   "nav_menu": {},
   "number_sections": true,
   "sideBar": true,
   "skip_h1_title": false,
   "title_cell": "Table of Contents",
   "title_sidebar": "Contents",
   "toc_cell": false,
   "toc_position": {},
   "toc_section_display": true,
   "toc_window_display": false
  }
 },
 "nbformat": 4,
 "nbformat_minor": 2
}
