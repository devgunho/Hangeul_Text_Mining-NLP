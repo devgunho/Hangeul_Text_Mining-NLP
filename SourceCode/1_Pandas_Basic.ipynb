{
 "cells": [
  {
   "cell_type": "markdown",
   "metadata": {},
   "source": [
    "# 판다스(Pandas)\n",
    "\n",
    "판다스(Pandas)는 파이썬 데이터 처리를 위한 라이브러리이다."
   ]
  },
  {
   "cell_type": "code",
   "execution_count": 1,
   "metadata": {},
   "outputs": [],
   "source": [
    "import pandas as pd"
   ]
  },
  {
   "cell_type": "markdown",
   "metadata": {},
   "source": [
    "Pandas는 총 세 가지의 데이터 구조를 사용한다.\n",
    "\n",
    "1. 시리즈(Series)\n",
    "2. 데이터프레임(DataFrame)\n",
    "3. 패널(Panel)"
   ]
  },
  {
   "cell_type": "markdown",
   "metadata": {},
   "source": [
    "### 1) 시리즈(Series)\n",
    "\n",
    "시리즈 클래스는 1차원 배열의 값(values)에 각 값에 대응되는 인덱스(index)를 부여할 수 있는 구조를 갖고 있다."
   ]
  },
  {
   "cell_type": "code",
   "execution_count": 2,
   "metadata": {},
   "outputs": [
    {
     "name": "stdout",
     "output_type": "stream",
     "text": [
      "홍길동    17000\n",
      "김길동    18000\n",
      "이길동     1000\n",
      "박길동     5000\n",
      "dtype: int64\n"
     ]
    }
   ],
   "source": [
    "sr = pd.Series([17000, 18000, 1000, 5000],\n",
    "       index=[\"홍길동\", \"김길동\", \"이길동\", \"박길동\"])\n",
    "print(sr)"
   ]
  },
  {
   "cell_type": "code",
   "execution_count": 3,
   "metadata": {},
   "outputs": [
    {
     "name": "stdout",
     "output_type": "stream",
     "text": [
      "[17000 18000  1000  5000]\n"
     ]
    }
   ],
   "source": [
    "print(sr.values)"
   ]
  },
  {
   "cell_type": "code",
   "execution_count": 4,
   "metadata": {},
   "outputs": [
    {
     "name": "stdout",
     "output_type": "stream",
     "text": [
      "Index(['홍길동', '김길동', '이길동', '박길동'], dtype='object')\n"
     ]
    }
   ],
   "source": [
    "print(sr.index)"
   ]
  },
  {
   "cell_type": "markdown",
   "metadata": {},
   "source": [
    "### 2) 데이터프레임(DataFrame)\n",
    "\n",
    "데이터프레임은 2차원 리스트를 매개변수로 전달한다.\n",
    "\n",
    "2차원이므로 행방향 인덱스(index)와 열방향 인덱스(column)가 존재한다.\n",
    "\n",
    "즉, 행과 열을 가지는 자료구조이다.\n",
    "\n",
    "시리즈가 인덱스(index)와 값(values)으로 구성된다면, 데이터프레임은 열(columns)까지 추가되어 열(columns), 인덱스(index), 값(values)으로 구성된다."
   ]
  },
  {
   "cell_type": "code",
   "execution_count": 5,
   "metadata": {},
   "outputs": [
    {
     "name": "stdout",
     "output_type": "stream",
     "text": [
      "       A  B  C\n",
      "one    1  2  3\n",
      "two    4  5  6\n",
      "three  7  8  9\n"
     ]
    }
   ],
   "source": [
    "values = [[1, 2, 3], [4, 5, 6], [7, 8, 9]]\n",
    "index = ['one', 'two', 'three']\n",
    "columns = ['A', 'B', 'C']\n",
    "\n",
    "df = pd.DataFrame(values, index=index, columns=columns)\n",
    "print(df)"
   ]
  },
  {
   "cell_type": "code",
   "execution_count": 6,
   "metadata": {},
   "outputs": [
    {
     "name": "stdout",
     "output_type": "stream",
     "text": [
      "Index(['one', 'two', 'three'], dtype='object')\n"
     ]
    }
   ],
   "source": [
    "# 인덱스 출력\n",
    "print(df.index)"
   ]
  },
  {
   "cell_type": "code",
   "execution_count": 7,
   "metadata": {},
   "outputs": [
    {
     "name": "stdout",
     "output_type": "stream",
     "text": [
      "Index(['A', 'B', 'C'], dtype='object')\n"
     ]
    }
   ],
   "source": [
    "# 열 출력\n",
    "print(df.columns)"
   ]
  },
  {
   "cell_type": "code",
   "execution_count": 8,
   "metadata": {},
   "outputs": [
    {
     "name": "stdout",
     "output_type": "stream",
     "text": [
      "[[1 2 3]\n",
      " [4 5 6]\n",
      " [7 8 9]]\n"
     ]
    }
   ],
   "source": [
    "# 값 출력\n",
    "print(df.values)"
   ]
  },
  {
   "cell_type": "markdown",
   "metadata": {},
   "source": [
    "### 3) 데이터프레임의 생성\n",
    "\n",
    "데이터프레임은 리스트(List), 시리즈(Series), 딕셔너리(dict), Numpy의 ndarrays, 또 다른 데이터프레임으로 생성할 수 있다."
   ]
  },
  {
   "cell_type": "code",
   "execution_count": 9,
   "metadata": {},
   "outputs": [
    {
     "name": "stdout",
     "output_type": "stream",
     "text": [
      "      0         1      2\n",
      "0  1000     Steve  90.72\n",
      "1  1001     James  78.09\n",
      "2  1002    Doyeon  98.43\n",
      "3  1003      Jane  64.19\n",
      "4  1004  Pilwoong  81.30\n",
      "5  1005      Tony  99.14\n"
     ]
    }
   ],
   "source": [
    "# 리스트로 생성하기\n",
    "data = [\n",
    "    ['1000', 'Steve', 90.72], \n",
    "    ['1001', 'James', 78.09], \n",
    "    ['1002', 'Doyeon', 98.43], \n",
    "    ['1003', 'Jane', 64.19], \n",
    "    ['1004', 'Pilwoong', 81.30],\n",
    "    ['1005', 'Tony', 99.14],\n",
    "]\n",
    "df = pd.DataFrame(data)\n",
    "print(df)"
   ]
  },
  {
   "cell_type": "code",
   "execution_count": 10,
   "metadata": {},
   "outputs": [
    {
     "name": "stdout",
     "output_type": "stream",
     "text": [
      "     학번        이름     점수\n",
      "0  1000     Steve  90.72\n",
      "1  1001     James  78.09\n",
      "2  1002    Doyeon  98.43\n",
      "3  1003      Jane  64.19\n",
      "4  1004  Pilwoong  81.30\n",
      "5  1005      Tony  99.14\n"
     ]
    }
   ],
   "source": [
    "df = pd.DataFrame(data, columns=['학번', '이름', '점수'])\n",
    "print(df)"
   ]
  },
  {
   "cell_type": "code",
   "execution_count": 11,
   "metadata": {},
   "outputs": [
    {
     "name": "stdout",
     "output_type": "stream",
     "text": [
      "     학번        이름     점수\n",
      "0  1000     Steve  90.72\n",
      "1  1001     James  78.09\n",
      "2  1002    Doyeon  98.43\n",
      "3  1003      Jane  64.19\n",
      "4  1004  Pilwoong  81.30\n",
      "5  1005      Tony  99.14\n"
     ]
    }
   ],
   "source": [
    "# 딕셔너리로 생성하기\n",
    "data = { '학번' : ['1000', '1001', '1002', '1003', '1004', '1005'],\n",
    "'이름' : [ 'Steve', 'James', 'Doyeon', 'Jane', 'Pilwoong', 'Tony'],\n",
    "         '점수': [90.72, 78.09, 98.43, 64.19, 81.30, 99.14]}\n",
    "\n",
    "df = pd.DataFrame(data)\n",
    "print(df)"
   ]
  },
  {
   "cell_type": "markdown",
   "metadata": {},
   "source": [
    "### 4) 데이터프레임 조회하기\n",
    "\n",
    "아래의 명령어는 데이터프레임에서 원하는 구간만 확인하기 위한 명령어로서 유용하게 사용된다.\n",
    "\n",
    "- df.head(n) - 앞 부분을 n개만 보기\n",
    "- df.tail(n) - 뒷 부분을 n개만 보기\n",
    "- df['열이름'] - 해당되는 열을 확인"
   ]
  },
  {
   "cell_type": "code",
   "execution_count": 12,
   "metadata": {},
   "outputs": [
    {
     "name": "stdout",
     "output_type": "stream",
     "text": [
      "     학번      이름     점수\n",
      "0  1000   Steve  90.72\n",
      "1  1001   James  78.09\n",
      "2  1002  Doyeon  98.43\n"
     ]
    }
   ],
   "source": [
    "# 앞 부분을 3개만 보기\n",
    "print(df.head(3))"
   ]
  },
  {
   "cell_type": "code",
   "execution_count": 13,
   "metadata": {},
   "outputs": [
    {
     "name": "stdout",
     "output_type": "stream",
     "text": [
      "     학번        이름     점수\n",
      "3  1003      Jane  64.19\n",
      "4  1004  Pilwoong  81.30\n",
      "5  1005      Tony  99.14\n"
     ]
    }
   ],
   "source": [
    "# 뒷 부분을 3개만 보기\n",
    "print(df.tail(3)) "
   ]
  },
  {
   "cell_type": "code",
   "execution_count": 14,
   "metadata": {},
   "outputs": [
    {
     "name": "stdout",
     "output_type": "stream",
     "text": [
      "0    1000\n",
      "1    1001\n",
      "2    1002\n",
      "3    1003\n",
      "4    1004\n",
      "5    1005\n",
      "Name: 학번, dtype: object\n"
     ]
    }
   ],
   "source": [
    "# '학번'에 해당되는 열을 보기\n",
    "print(df['학번'])"
   ]
  },
  {
   "cell_type": "markdown",
   "metadata": {},
   "source": [
    "### 5) 외부 데이터 읽기"
   ]
  },
  {
   "cell_type": "markdown",
   "metadata": {},
   "source": [
    "Pandas는 CSV, 텍스트, Excel, SQL, HTML, JSON 등 다양한 데이터 파일을 읽고 데이터 프레임을 생성할 수 있다.\n",
    "\n",
    "예를 들어, csv 파일을 읽을 때는 pandas.read_csv()를 통해 읽을 수 있다."
   ]
  },
  {
   "cell_type": "code",
   "execution_count": 15,
   "metadata": {},
   "outputs": [],
   "source": [
    "df=pd.read_excel('./dataset/코로나19/원문데이터_코로나19.xlsx',sheet_name='Worksheet')"
   ]
  },
  {
   "cell_type": "code",
   "execution_count": 16,
   "metadata": {},
   "outputs": [
    {
     "name": "stdout",
     "output_type": "stream",
     "text": [
      "         인도·유럽, 코로나19 폭증...&quot;12월 중순 최고조&quot; / YTN  \\\n",
      "0     폐쇄·업무정지 등 영업장 손실보상 방안 마련｜코로나19 중앙재난안전대책본부 브리핑 ...   \n",
      "1                  광주 코로나19 신규 확진자 17명 발생 / KBS뉴스(News)   \n",
      "2            코로나19 미국, 뉴욕 떠나는 뉴요커들 (184회_2020.09.05.방송)   \n",
      "3     [LIVE] 중앙재난안전대책본부 코로나19 정례 브리핑 (2020년 9월 7일) /...   \n",
      "4     &#39;코로나19&#39; 중앙재난안전대책본부 브리핑 - [끝까지 LIVE] MB...   \n",
      "...                                                 ...   \n",
      "8705                       정치-경제 연계 모델로 본 대만의코로나19대응 연구   \n",
      "8706                       코로나바이러스-19이후 미래기술에 대한 학회의 역할   \n",
      "8707    코로나바이러스감염증-19의 바이러스 (SARS-CoV-2) 특징, 전파 및 임상 양상   \n",
      "8708                                          독일의코로나계약법   \n",
      "8709                       한국코로나바이러스감염증-19의 사업장 대응방안 소개   \n",
      "\n",
      "            https://www.youtube.com/watch?v=Ulqf_xbplbk  \\\n",
      "0           https://www.youtube.com/watch?v=wctAa6EGiAE   \n",
      "1           https://www.youtube.com/watch?v=IrYGdNZgftI   \n",
      "2           https://www.youtube.com/watch?v=pxcv1-XVZgk   \n",
      "3           https://www.youtube.com/watch?v=K_baXRfwl9k   \n",
      "4           https://www.youtube.com/watch?v=_ffhTAPwNZw   \n",
      "...                                                 ...   \n",
      "8705  http://academic.naver.com/article.naver?doc_id...   \n",
      "8706  http://academic.naver.com/article.naver?doc_id...   \n",
      "8707  http://academic.naver.com/article.naver?doc_id...   \n",
      "8708  http://academic.naver.com/article.naver?doc_id...   \n",
      "8709  http://academic.naver.com/article.naver?doc_id...   \n",
      "\n",
      "     [앵커] 인도에서는 연일 8만 명 이상의 신규 확진자 쏟아지면서 코로나19 누적 확진자가 400만 명을 넘어서며 브라질과 비슷해졌습니다. 유럽도 프랑스와 이탈리아, ...  \\\n",
      "0     지역발생 144명·해외유입 12명 ▪️사망자 3명 추가 총 344명 ✓문화·체육·관...                                                \n",
      "1     광주의 코로나19 상황이 진정되지 않고 있습니다. 광주에서는 어제 하루 신규 확진자...                                                \n",
      "2     특파원보고세계는지금 #세계는지금 #국제시사 특파원 보고 세계는 지금 (매주 토요일 ...                                                \n",
      "3     [LIVE] 중앙재난안전대책본부 코로나19 정례 브리핑 (2020년 9월 7일) /...                                                \n",
      "4     오늘 오전 0시 기준으로 국내 신종 코로나바이러스 감염증(코로나19) 신규 확진자가...                                                \n",
      "...                                                 ...                                                \n",
      "8705  An Analysis of Taiwan’s Response to COVID-19: ...                                                \n",
      "8706  KOSACS Significant Role for Future Technology ...                                                \n",
      "8707  Epidemiology, Virology, and Clinical Features ...                                                \n",
      "8708  Das deutsche Coronavertragsrecht Ⅰ. 들어가며 Ⅱ.코로나...                                                \n",
      "8709  Introduction of Response Guidance for Business...                                                \n",
      "\n",
      "      youtube       all  2020-04-09  2020-09-09  \n",
      "0     youtube       all  2020-04-09  2020-09-09  \n",
      "1     youtube       all  2020-04-09  2020-09-09  \n",
      "2     youtube       all  2020-04-09  2020-09-09  \n",
      "3     youtube       all  2020-04-09  2020-09-09  \n",
      "4     youtube       all  2020-04-09  2020-09-09  \n",
      "...       ...       ...         ...         ...  \n",
      "8705    naver  academic  2020-04-09  2020-09-09  \n",
      "8706    naver  academic  2020-04-09  2020-09-09  \n",
      "8707    naver  academic  2020-04-09  2020-09-09  \n",
      "8708    naver  academic  2020-04-09  2020-09-09  \n",
      "8709    naver  academic  2020-04-09  2020-09-09  \n",
      "\n",
      "[8710 rows x 7 columns]\n"
     ]
    }
   ],
   "source": [
    "print(df)"
   ]
  },
  {
   "cell_type": "code",
   "execution_count": 17,
   "metadata": {},
   "outputs": [
    {
     "name": "stdout",
     "output_type": "stream",
     "text": [
      "RangeIndex(start=0, stop=8710, step=1)\n"
     ]
    }
   ],
   "source": [
    "print(df.index)"
   ]
  }
 ],
 "metadata": {
  "kernelspec": {
   "display_name": "Python 3",
   "language": "python",
   "name": "python3"
  },
  "language_info": {
   "codemirror_mode": {
    "name": "ipython",
    "version": 3
   },
   "file_extension": ".py",
   "mimetype": "text/x-python",
   "name": "python",
   "nbconvert_exporter": "python",
   "pygments_lexer": "ipython3",
   "version": "3.7.4"
  }
 },
 "nbformat": 4,
 "nbformat_minor": 4
}
