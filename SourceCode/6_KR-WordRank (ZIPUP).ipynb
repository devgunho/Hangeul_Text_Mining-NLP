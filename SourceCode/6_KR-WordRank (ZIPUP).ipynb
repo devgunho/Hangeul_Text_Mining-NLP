{
 "cells": [
  {
   "cell_type": "code",
   "execution_count": 1,
   "metadata": {},
   "outputs": [
    {
     "data": {
      "text/html": [
       "<div>\n",
       "<style scoped>\n",
       "    .dataframe tbody tr th:only-of-type {\n",
       "        vertical-align: middle;\n",
       "    }\n",
       "\n",
       "    .dataframe tbody tr th {\n",
       "        vertical-align: top;\n",
       "    }\n",
       "\n",
       "    .dataframe thead th {\n",
       "        text-align: right;\n",
       "    }\n",
       "</style>\n",
       "<table border=\"1\" class=\"dataframe\">\n",
       "  <thead>\n",
       "    <tr style=\"text-align: right;\">\n",
       "      <th></th>\n",
       "      <th>TEXT</th>\n",
       "    </tr>\n",
       "  </thead>\n",
       "  <tbody>\n",
       "    <tr>\n",
       "      <th>0</th>\n",
       "      <td>나이키 배색반집업후리스\\t봉봉빈티지 ♥제품명: 나이키 배색반집업후리스 ​ ♥가격: ...</td>\n",
       "    </tr>\n",
       "    <tr>\n",
       "      <th>1</th>\n",
       "      <td>어커버 하프집업후리스 :: HALF ZIP UP SILKY FLEECE\\tHALF ...</td>\n",
       "    </tr>\n",
       "    <tr>\n",
       "      <th>2</th>\n",
       "      <td>[18DAY] 남미배낭여행 (볼리비아 라파즈 데스로드/킬리킬리 야경/라파즈...\\t...</td>\n",
       "    </tr>\n",
       "    <tr>\n",
       "      <th>3</th>\n",
       "      <td>Made U] 스윗서브 후리스반집업후드-뽀글이 양털 후드티] 털날리는 것...\\t상...</td>\n",
       "    </tr>\n",
       "    <tr>\n",
       "      <th>4</th>\n",
       "      <td>/choiroom/ 터틀 울 골지 원피스 니트 세트\\t뒷면 초이룸의 베스트상품 함께...</td>\n",
       "    </tr>\n",
       "    <tr>\n",
       "      <th>...</th>\n",
       "      <td>...</td>\n",
       "    </tr>\n",
       "    <tr>\n",
       "      <th>95864</th>\n",
       "      <td>[핫딜]블랙야크 여성반집업티셔츠 주황 5,000원\\t주문은 링크타주세요. https...</td>\n",
       "    </tr>\n",
       "    <tr>\n",
       "      <th>95865</th>\n",
       "      <td>[핫딜]제이디엑스 JDX 여성 이중에리반집업티셔츠 네이비 9,000원\\t주문은 링크...</td>\n",
       "    </tr>\n",
       "    <tr>\n",
       "      <th>95866</th>\n",
       "      <td>[핫딜]제이디엑스 JDX 여성 이중에리반집업티셔츠 블랙 할인가 9...\\t주문은 링...</td>\n",
       "    </tr>\n",
       "    <tr>\n",
       "      <th>95867</th>\n",
       "      <td>남성 폴로 면반집업니트 레드 70% 50000\\tl xl 라지 기준 여유 105 5...</td>\n",
       "    </tr>\n",
       "    <tr>\n",
       "      <th>95868</th>\n",
       "      <td>[쇼지첼시핫딜] 디스커버리 여성반집업기모 하이넥 긴팔티 ! 1...\\t17800 5...</td>\n",
       "    </tr>\n",
       "  </tbody>\n",
       "</table>\n",
       "<p>95869 rows × 1 columns</p>\n",
       "</div>"
      ],
      "text/plain": [
       "                                                    TEXT\n",
       "0      나이키 배색반집업후리스\\t봉봉빈티지 ♥제품명: 나이키 배색반집업후리스 ​ ♥가격: ...\n",
       "1      어커버 하프집업후리스 :: HALF ZIP UP SILKY FLEECE\\tHALF ...\n",
       "2      [18DAY] 남미배낭여행 (볼리비아 라파즈 데스로드/킬리킬리 야경/라파즈...\\t...\n",
       "3      Made U] 스윗서브 후리스반집업후드-뽀글이 양털 후드티] 털날리는 것...\\t상...\n",
       "4      /choiroom/ 터틀 울 골지 원피스 니트 세트\\t뒷면 초이룸의 베스트상품 함께...\n",
       "...                                                  ...\n",
       "95864  [핫딜]블랙야크 여성반집업티셔츠 주황 5,000원\\t주문은 링크타주세요. https...\n",
       "95865  [핫딜]제이디엑스 JDX 여성 이중에리반집업티셔츠 네이비 9,000원\\t주문은 링크...\n",
       "95866  [핫딜]제이디엑스 JDX 여성 이중에리반집업티셔츠 블랙 할인가 9...\\t주문은 링...\n",
       "95867  남성 폴로 면반집업니트 레드 70% 50000\\tl xl 라지 기준 여유 105 5...\n",
       "95868  [쇼지첼시핫딜] 디스커버리 여성반집업기모 하이넥 긴팔티 ! 1...\\t17800 5...\n",
       "\n",
       "[95869 rows x 1 columns]"
      ]
     },
     "execution_count": 1,
     "metadata": {},
     "output_type": "execute_result"
    }
   ],
   "source": [
    "import pandas as pd\n",
    "df = pd.read_excel('./dataset/패션아이템/TOP_ZIPUP_2019.xlsx',\n",
    "                   names=['TEXT'])\n",
    "df"
   ]
  },
  {
   "cell_type": "code",
   "execution_count": 2,
   "metadata": {},
   "outputs": [
    {
     "data": {
      "text/plain": [
       "0        나이키 배색반집업후리스\\t봉봉빈티지 ♥제품명: 나이키 배색반집업후리스 ​ ♥가격: ...\n",
       "1        어커버 하프집업후리스 :: HALF ZIP UP SILKY FLEECE\\tHALF ...\n",
       "2        [18DAY] 남미배낭여행 (볼리비아 라파즈 데스로드/킬리킬리 야경/라파즈...\\t...\n",
       "3        Made U] 스윗서브 후리스반집업후드-뽀글이 양털 후드티] 털날리는 것...\\t상...\n",
       "4        /choiroom/ 터틀 울 골지 원피스 니트 세트\\t뒷면 초이룸의 베스트상품 함께...\n",
       "                               ...                        \n",
       "95864    [핫딜]블랙야크 여성반집업티셔츠 주황 5,000원\\t주문은 링크타주세요. https...\n",
       "95865    [핫딜]제이디엑스 JDX 여성 이중에리반집업티셔츠 네이비 9,000원\\t주문은 링크...\n",
       "95866    [핫딜]제이디엑스 JDX 여성 이중에리반집업티셔츠 블랙 할인가 9...\\t주문은 링...\n",
       "95867    남성 폴로 면반집업니트 레드 70% 50000\\tl xl 라지 기준 여유 105 5...\n",
       "95868    [쇼지첼시핫딜] 디스커버리 여성반집업기모 하이넥 긴팔티 ! 1...\\t17800 5...\n",
       "Name: TEXT, Length: 95869, dtype: object"
      ]
     },
     "execution_count": 2,
     "metadata": {},
     "output_type": "execute_result"
    }
   ],
   "source": [
    "df['TEXT']"
   ]
  },
  {
   "cell_type": "code",
   "execution_count": null,
   "metadata": {},
   "outputs": [],
   "source": [
    "texts =df['TEXT'].values.tolist()\n",
    "print(texts)"
   ]
  },
  {
   "cell_type": "code",
   "execution_count": null,
   "metadata": {},
   "outputs": [],
   "source": [
    "from krwordrank.hangle import normalize\n",
    "\n",
    "texts = [normalize(text, english=True, number=True) for text in texts]"
   ]
  },
  {
   "cell_type": "code",
   "execution_count": null,
   "metadata": {},
   "outputs": [],
   "source": [
    "from krwordrank.word import KRWordRank\n",
    "\n",
    "wordrank_extractor = KRWordRank(\n",
    "    min_count = 5, # 단어의 최소 출현 빈도수 (그래프 생성 시)\n",
    "    max_length = 10, # 단어의 최대 길이\n",
    "    verbose = True\n",
    "    )\n",
    "\n",
    "beta = 0.85    # PageRank의 decaying factor beta\n",
    "max_iter = 10\n",
    "\n",
    "keywords, rank, graph = wordrank_extractor.extract(texts, beta, max_iter)"
   ]
  },
  {
   "cell_type": "code",
   "execution_count": null,
   "metadata": {},
   "outputs": [],
   "source": [
    "for word, r in sorted(keywords.items(), key=lambda x: x[1], reverse=True)[:30]:\n",
    "    print('%8s:\\t%.4f' % (word, r))"
   ]
  },
  {
   "cell_type": "code",
   "execution_count": null,
   "metadata": {},
   "outputs": [],
   "source": [
    "stopwords = {'39', 'com', '34'}\n",
    "passwords = {word: score for word, score in sorted(\n",
    "    keywords.items(), key=lambda x: -x[1])[:300] if not (word in stopwords)}"
   ]
  },
  {
   "cell_type": "code",
   "execution_count": null,
   "metadata": {},
   "outputs": [],
   "source": [
    "from krwordrank.word import summarize_with_keywords\n",
    "\n",
    "keywords = summarize_with_keywords(\n",
    "    texts, min_count=5, max_length=10, beta=0.85, max_iter=10, stopwords=stopwords, verbose=True)\n",
    "keywords = summarize_with_keywords(texts)  # with default arguments"
   ]
  },
  {
   "cell_type": "code",
   "execution_count": null,
   "metadata": {},
   "outputs": [],
   "source": [
    "from wordcloud import WordCloud\n",
    "\n",
    "# Set your font path\n",
    "font_path = 'YOUR_FONT_DIR/truetype/nanum/NanumBarunGothic.ttf'\n",
    "\n",
    "krwordrank_cloud = WordCloud(\n",
    "    font_path=font_path,\n",
    "    width=800,\n",
    "    height=800,\n",
    "    background_color=\"white\"\n",
    ")\n",
    "\n",
    "krwordrank_cloud = krwordrank_cloud.generate_from_frequencies(passwords)"
   ]
  },
  {
   "cell_type": "code",
   "execution_count": null,
   "metadata": {},
   "outputs": [],
   "source": [
    "import matplotlib.pyplot as plt\n",
    "%matplotlib inline\n",
    "\n",
    "fig = plt.figure(figsize=(10, 10))\n",
    "plt.imshow(krwordrank_cloud, interpolation=\"bilinear\")\n",
    "plt.show()"
   ]
  },
  {
   "cell_type": "code",
   "execution_count": null,
   "metadata": {},
   "outputs": [],
   "source": [
    "# fig.savefig('./lalaland_wordcloud.png')"
   ]
  }
 ],
 "metadata": {
  "kernelspec": {
   "display_name": "Python 3",
   "language": "python",
   "name": "python3"
  },
  "language_info": {
   "codemirror_mode": {
    "name": "ipython",
    "version": 3
   },
   "file_extension": ".py",
   "mimetype": "text/x-python",
   "name": "python",
   "nbconvert_exporter": "python",
   "pygments_lexer": "ipython3",
   "version": "3.7.4"
  },
  "toc": {
   "base_numbering": 1,
   "nav_menu": {},
   "number_sections": true,
   "sideBar": true,
   "skip_h1_title": false,
   "title_cell": "Table of Contents",
   "title_sidebar": "Contents",
   "toc_cell": false,
   "toc_position": {},
   "toc_section_display": true,
   "toc_window_display": false
  }
 },
 "nbformat": 4,
 "nbformat_minor": 2
}
