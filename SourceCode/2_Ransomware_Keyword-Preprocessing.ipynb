{
 "cells": [
  {
   "cell_type": "code",
   "execution_count": 1,
   "metadata": {},
   "outputs": [
    {
     "name": "stdout",
     "output_type": "stream",
     "text": [
      "     안랩, 채용 관련 문서 위장 랜섬웨어 유포 주의 당부#랜섬웨어 #안랩 #코스닥 #채용 #신규 #공채 #하반기공채 #입사지원서 #이력서 #채용지원 #악성코드 -&gt; 자세히보기… https://t.co/oXfZe76wZ2  \\\n",
      "0     RT @bloter_news: 이력서 입사지원서 등 HWP PDF 위장 실행파일(....                                                                            \n",
      "1     RT @bloter_news: 이력서 입사지원서 등 HWP PDF 위장 실행파일(....                                                                            \n",
      "2     RT @bloter_news: 이력서 입사지원서 등 HWP PDF 위장 실행파일(....                                                                            \n",
      "3     RT @bloter_news: 이력서 입사지원서 등 HWP PDF 위장 실행파일(....                                                                            \n",
      "4     RT @bloter_news: 이력서 입사지원서 등 HWP PDF 위장 실행파일(....                                                                            \n",
      "...                                                 ...                                                                            \n",
      "9602                  텍스트 마이닝을 이용한 정보보호인식 분석 및 강화 방안 모색                                                                            \n",
      "9603                        사이버 공격탐지와 싱글 패턴 매칭 알고리즘 개선법                                                                            \n",
      "9604          해킹이 산업보안에 미치는 영향에 대한 연구 : 사회 공학적 해킹을 중심으로                                                                            \n",
      "9605                                           보안 관련 기사                                                                            \n",
      "9606                          딥러닝 기반의 악성코드 예방 모델에 관한 연구                                                                            \n",
      "\n",
      "     https://twitter.com/i/web/status/1306352522844495873  \\\n",
      "0     https://twitter.com/i/web/status/1306071247256...     \n",
      "1     https://twitter.com/i/web/status/1306060564611...     \n",
      "2     https://twitter.com/i/web/status/1306058919605...     \n",
      "3     https://twitter.com/i/web/status/1306056529733...     \n",
      "4     https://twitter.com/i/web/status/1306055533317...     \n",
      "...                                                 ...     \n",
      "9602  http://academic.naver.com/article.naver?doc_id...     \n",
      "9603  http://academic.naver.com/article.naver?doc_id...     \n",
      "9604  http://academic.naver.com/article.naver?doc_id...     \n",
      "9605  http://academic.naver.com/article.naver?doc_id...     \n",
      "9606  http://academic.naver.com/article.naver?doc_id...     \n",
      "\n",
      "                                             Unnamed: 2  twitter       all  \\\n",
      "0                                                   NaN  twitter       all   \n",
      "1                                                   NaN  twitter       all   \n",
      "2                                                   NaN  twitter       all   \n",
      "3                                                   NaN  twitter       all   \n",
      "4                                                   NaN  twitter       all   \n",
      "...                                                 ...      ...       ...   \n",
      "9602  최근 정보보호 분야에서는 사회공학, 랜섬웨어와 같은 정보보호 기술만으로는 막을 수 ...    naver  academic   \n",
      "9603  표제지목차I. 서론 7II. 악성코드 101절 악성코드란 102절 악성코드의 종류 ...    naver  academic   \n",
      "9604  표제지목차국문초록 5제I장 서론 7제1절 연구배경 및 목적 7제2절 연구범위와 방법...    naver  academic   \n",
      "9605  더존비즈온, 포렌식 기반 DLP 솔루션 공급 잇따라경찰청 위장한 악성코드 이메일 확...    naver  academic   \n",
      "9606  Ⅰ. 서론 11.1 연구의 배경 11.2 연구의 필요성 31.3 논문의 구성 5Ⅱ....    naver  academic   \n",
      "\n",
      "      2019-09-22  2020-09-22  \n",
      "0     2019-09-22  2020-09-22  \n",
      "1     2019-09-22  2020-09-22  \n",
      "2     2019-09-22  2020-09-22  \n",
      "3     2019-09-22  2020-09-22  \n",
      "4     2019-09-22  2020-09-22  \n",
      "...          ...         ...  \n",
      "9602  2019-09-22  2020-09-22  \n",
      "9603  2019-09-22  2020-09-22  \n",
      "9604  2019-09-22  2020-09-22  \n",
      "9605  2019-09-22  2020-09-22  \n",
      "9606  2019-09-22  2020-09-22  \n",
      "\n",
      "[9607 rows x 7 columns]\n"
     ]
    }
   ],
   "source": [
    "import pandas as pd\n",
    "df=pd.read_excel('./dataset/랜섬웨어/원문데이터_랜섬웨어.xlsx',sheet_name='Worksheet')\n",
    "print(df)"
   ]
  },
  {
   "cell_type": "code",
   "execution_count": 2,
   "metadata": {},
   "outputs": [
    {
     "name": "stdout",
     "output_type": "stream",
     "text": [
      "           랜섬웨  30588      1.82439239109% 1.82439239109%.1\n",
      "0         랜섬웨어  19347      1.15393355533%   2.97832594642%\n",
      "1            것  18917      1.12828661116%   4.10661255758%\n",
      "2           파일  17438      1.04007305204%   5.14668560962%\n",
      "3           감염  11370      0.67815291901%   5.82483852863%\n",
      "4           보안  11098     0.661929735723%   6.48676826435%\n",
      "...        ...    ...                 ...              ...\n",
      "75428      근대사      1  5.96440562014e-05%    99.999761424%\n",
      "75429      다자녀      1  5.96440562014e-05%   99.9998210681%\n",
      "75430     게임업체      1  5.96440562014e-05%   99.9998807121%\n",
      "75431   해커들은금전      1  5.96440562014e-05%   99.9999403562%\n",
      "75432  Snitch앱      1  5.96440562014e-05%           100.0%\n",
      "\n",
      "[75433 rows x 4 columns]\n"
     ]
    }
   ],
   "source": [
    "df=pd.read_excel('./dataset/랜섬웨어/단어빈도_랜섬웨어.xlsx',sheet_name='Worksheet')\n",
    "print(df)"
   ]
  }
 ],
 "metadata": {
  "kernelspec": {
   "display_name": "Python 3",
   "language": "python",
   "name": "python3"
  },
  "language_info": {
   "codemirror_mode": {
    "name": "ipython",
    "version": 3
   },
   "file_extension": ".py",
   "mimetype": "text/x-python",
   "name": "python",
   "nbconvert_exporter": "python",
   "pygments_lexer": "ipython3",
   "version": "3.8.3"
  }
 },
 "nbformat": 4,
 "nbformat_minor": 4
}
